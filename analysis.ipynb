{
 "cells": [
  {
   "cell_type": "code",
   "execution_count": null,
   "id": "cb5e1ce3",
   "metadata": {},
   "outputs": [],
   "source": [
    "%pip install umap-learn\n",
    "%pip install kmapper\n",
    "%pip install scikit-learn"
   ]
  },
  {
   "cell_type": "code",
   "execution_count": 1,
   "id": "6f8df41b",
   "metadata": {},
   "outputs": [],
   "source": [
    "import pandas as pd\n",
    "import numpy as np\n",
    "from sklearn import preprocessing\n",
    "from sklearn.feature_extraction.text import TfidfVectorizer\n",
    "from sklearn import manifold\n",
    "import umap\n",
    "from kmapper import KeplerMapper\n",
    "from sklearn.preprocessing import MinMaxScaler\n",
    "import kmapper as km\n",
    "from sklearn.model_selection import train_test_split\n",
    "from sklearn.neural_network import MLPClassifier\n",
    "from sklearn.preprocessing import StandardScaler\n",
    "from sklearn.metrics import accuracy_score\n",
    "from sklearn.neural_network import MLPClassifier\n",
    "from sklearn.model_selection import GridSearchCV"
   ]
  },
  {
   "cell_type": "code",
   "execution_count": 2,
   "id": "4daa93bc",
   "metadata": {},
   "outputs": [
    {
     "name": "stdout",
     "output_type": "stream",
     "text": [
      "<class 'pandas.core.frame.DataFrame'>\n",
      "Index: 417490 entries, 0 to 493794\n",
      "Data columns (total 6 columns):\n",
      " #   Column        Non-Null Count   Dtype  \n",
      "---  ------        --------------   -----  \n",
      " 0   EDAD          417490 non-null  int64  \n",
      " 1   SEXO          417490 non-null  int64  \n",
      " 2   ESTRATO       417490 non-null  int64  \n",
      " 3   DISCAPACIDAD  417490 non-null  int64  \n",
      " 4   PTOTAL        417490 non-null  float64\n",
      " 5   ADMITIDO      417490 non-null  int64  \n",
      "dtypes: float64(1), int64(5)\n",
      "memory usage: 22.3 MB\n"
     ]
    }
   ],
   "source": [
    "import joblib\n",
    "# Cargar los datos desde el archivo CSV\n",
    "df = pd.read_csv('C:/Users/danie/Desktop/proyecto final/Microdatos_Aspirantes_y_Admitidos_en_la_UNAL_20240311.csv')\n",
    "\n",
    "df = df[(df['NIVEL'] == 'Pregrado') & (df['PTOTAL'] > 10)]\n",
    "\n",
    "# Columnas a eliminar del DataFrame\n",
    "columnas_a_eliminar = ['RANGO_ANO_TERMINACION', 'MODALIDAD', 'AREA_CINE',\n",
    "                       'COD_CIU_RES', 'COD_DEP_NAC', 'CD_CINE', 'SEMESTRE',\n",
    "                       'CA_CINE', 'AREAC_SNIES', 'PROGRAMA', 'SNIES_PROGRA',\n",
    "                       'INS_SEDE_NOMBRE', 'SNIES_SEDE', 'PEAMA', 'PAES',\n",
    "                       'TIPO_INS', 'MOD_INS', 'TIPO_DISC', 'CODS_NAC',\n",
    "                       'NACIONALIDAD', 'LAT_CIU_RES', 'LON_CIU_RES',\n",
    "                       'TIPO_NIVEL', 'DEP_NAC', 'CIU_NAC', 'COD_CIU_NAC',\n",
    "                       'LAT_CIU_NAC', 'LON_CIU_NAC', 'CIU_RES', 'DEP_RES',\n",
    "                       'COD_DEP_RES', 'YEAR', 'CODN_NAC', 'NIVEL']\n",
    "\n",
    "# Eliminar las columnas especificadas\n",
    "data = df.drop(columnas_a_eliminar, axis=1)\n",
    "\n",
    "# Definir el mapeo de valores para 'ESTRATO'\n",
    "mapeo_estrato = {'ND/NE': 0, 'Estrato 1': 1, 'Estrato 2': 2, 'Estrato 3': 3, 'Estrato 4': 4, 'Estrato 5': 5, 'Estrato 6': 6}\n",
    "# Aplicar el mapeo a la columna 'ESTRATO'\n",
    "data['ESTRATO'] = data['ESTRATO'].replace(mapeo_estrato)\n",
    "\n",
    "# Calcular la distribución de los estratos existentes en los datos\n",
    "distribucion_estratos = data['ESTRATO'].value_counts(normalize=True)\n",
    "\n",
    "# Remover el estrato '0' de la distribución\n",
    "distribucion_estratos_sin_cero = distribucion_estratos.drop(0)\n",
    "\n",
    "# Normalizar las probabilidades para asegurarse de que sumen 1\n",
    "probabilidades_normalizadas = distribucion_estratos_sin_cero / distribucion_estratos_sin_cero.sum()\n",
    "\n",
    "# Elegir aleatoriamente un estrato basado en la distribución existente\n",
    "nuevo_estrato = np.random.choice(probabilidades_normalizadas.index, p=probabilidades_normalizadas.values)\n",
    "\n",
    "# Reemplazar los valores de '0' en la columna 'ESTRATO' con el nuevo estrato seleccionado\n",
    "data.loc[data['ESTRATO'] == 0, 'ESTRATO'] = nuevo_estrato\n",
    "\n",
    "# # Definir el mapeo de valores para SEXO\n",
    "mapeo_sexo = {'Mujeres': 0, 'Hombres': 1, 'Transgénero': 2}\n",
    "\n",
    "# # Aplicar el mapeo a la columna 'SEXO'\n",
    "data['SEXO'] = data['SEXO'].replace(mapeo_sexo)\n",
    "\n",
    "# Definir el mapeo de valores para 'DISCAPACIDAD'\n",
    "mapeo_discapacidad = {'Sí': 0, 'No': 1}\n",
    "# Aplicar el mapeo a la columna 'DISCAPACIDAD'\n",
    "data['DISCAPACIDAD'] = data['DISCAPACIDAD'].replace(mapeo_discapacidad)\n",
    "\n",
    "mapeo_admitido = {'Sí': 0, 'No': 1}\n",
    "# Aplicar el mapeo a la columna 'ADMITIDO'\n",
    "data['ADMITIDO'] = data['ADMITIDO'].replace(mapeo_admitido)\n",
    "data.info()\n",
    "\n",
    "# Separar las características (X) y la variable objetivo (y)\n",
    "X = data[['EDAD', 'SEXO', 'ESTRATO', 'DISCAPACIDAD', 'PTOTAL']]\n",
    "y = data['ADMITIDO']\n",
    "\n",
    "# Dividir el conjunto de datos en conjuntos de entrenamiento y prueba\n",
    "X_train, X_test, y_train, y_test = train_test_split(X, y, test_size=0.2, random_state=42)\n",
    "\n",
    "# Normalizar las características\n",
    "scaler = preprocessing.MinMaxScaler()\n",
    "X_train_scaled = scaler.fit_transform(X_train)\n",
    "X_test_scaled = scaler.transform(X_test)\n",
    "\n",
    "# param_grid = {\n",
    "#     'hidden_layer_sizes': [(10,10)],\n",
    "#     'activation': ['tanh', 'relu'],\n",
    "#     'solver': ['sgd', 'adam'],\n",
    "#     'alpha': [0.0001],\n",
    "#     'learning_rate': ['adaptive'],\n",
    "#     'learning_rate_init': [0.01],\n",
    "#     'max_iter': [200]\n",
    "# }\n",
    "\n",
    "# # Inicializar el clasificador MLP\n",
    "# mlp = MLPClassifier()\n",
    "\n",
    "# # Realizar la búsqueda de hiperparámetros utilizando GridSearchCV\n",
    "# grid_search = GridSearchCV(mlp, param_grid, cv=5, verbose=1, n_jobs=-1)\n",
    "# grid_search.fit(X_train_scaled, y_train)\n",
    "\n",
    "# # Mostrar los mejores hiperparámetros encontrados\n",
    "# print(\"Mejores hiperparámetros encontrados:\")\n",
    "# print(grid_search.best_params_)\n",
    "\n",
    "# # Calcular la precisión en el conjunto de prueba con los mejores hiperparámetros\n",
    "# accuracy = grid_search.best_estimator_.score(X_test_scaled, y_test)\n",
    "# print(\"Precisión en el conjunto de prueba con mejores hiperparámetros:\", accuracy)\n",
    "\n",
    "# joblib.dump(grid_search.best_estimator_, 'modelo_mlp.joblib')"
   ]
  },
  {
   "cell_type": "code",
   "execution_count": 10,
   "id": "ca6129ad",
   "metadata": {},
   "outputs": [
    {
     "name": "stdout",
     "output_type": "stream",
     "text": [
      "[LibSVM]"
     ]
    },
    {
     "name": "stderr",
     "output_type": "stream",
     "text": [
      "c:\\ProgramData\\anaconda3\\Lib\\site-packages\\sklearn\\svm\\_base.py:297: ConvergenceWarning: Solver terminated early (max_iter=500).  Consider pre-processing your data with StandardScaler or MinMaxScaler.\n",
      "  warnings.warn(\n"
     ]
    },
    {
     "name": "stdout",
     "output_type": "stream",
     "text": [
      "Precisión del modelo SVM: 0.85\n"
     ]
    },
    {
     "data": {
      "text/plain": [
       "['svm_model.joblib']"
      ]
     },
     "execution_count": 10,
     "metadata": {},
     "output_type": "execute_result"
    }
   ],
   "source": [
    "import joblib\n",
    "import pandas as pd\n",
    "from sklearn.model_selection import train_test_split, GridSearchCV\n",
    "from sklearn.preprocessing import StandardScaler\n",
    "from sklearn.decomposition import PCA\n",
    "from sklearn import svm\n",
    "from sklearn.metrics import accuracy_score, precision_recall_fscore_support, confusion_matrix\n",
    "import seaborn as sns\n",
    "import matplotlib.pyplot as plt\n",
    "\n",
    "\n",
    "clf = svm.SVC(C=0.001, kernel='poly', degree=5, gamma='scale', \n",
    "        coef0=0.0, shrinking=True, probability=False, \n",
    "        tol=0.00001, cache_size=500, class_weight=None, \n",
    "        verbose=True, max_iter=500, decision_function_shape='ovr', \n",
    "        break_ties=True, random_state=None)\n",
    "\n",
    "clf.fit(X_train_scaled, y_train) \n",
    "\n",
    "# Predecir las etiquetas de salida para los datos de prueba\n",
    "y_pred = clf.predict(X_test_scaled)\n",
    "\n",
    "\n",
    "# Calcular la precisión del modelo\n",
    "accuracy = accuracy_score(y_test, y_pred)\n",
    "print(\"Precisión del modelo SVM: {:.2f}\".format(accuracy))\n",
    "\n",
    "joblib.dump(clf, 'svm_model.joblib')"
   ]
  },
  {
   "cell_type": "code",
   "execution_count": null,
   "id": "8a0b0cdb",
   "metadata": {},
   "outputs": [],
   "source": [
    "#Muestrear los datos\n",
    "data = data.sample(n=100000, random_state=42)\n",
    "\n",
    "# Convertir DataFrame a un arreglo de numpy\n",
    "data_array = data.values\n",
    "y = data_array[:, 4].astype(float)\n",
    "z = data_array[:, 1].astype(float)\n",
    "w = data_array[:, 2].astype(float)\n",
    "# Inicialización de KeplerMapper\n",
    "mapper = km.KeplerMapper()\n",
    "\n",
    "# Ajuste y transformación de datos\n",
    "projected_data = mapper.fit_transform(data_array,\n",
    "                                      projection= [manifold.Isomap(n_components=3, n_jobs=-1),\n",
    "                                                   umap.UMAP(n_components=2, random_state=1)],\n",
    "                                      scaler=[ MinMaxScaler(), MinMaxScaler()])\n",
    "#[manifold.Isomap(n_components=3, n_jobs=-1),\n",
    "#  [None, MinMaxScaler()]   umap.UMAP(n_components=2, random_state=1)]\n",
    "# Creación de un cubrimiento (cover)\n",
    "cover = km.Cover(n_cubes=15, perc_overlap=0.6)  # Aumentar el número de cubos para cubrir mejor los datos\n",
    "\n",
    "# Mapeo de los datos con una distancia más grande\n",
    "graph = mapper.map(projected_data, data_array, cover=cover, clusterer=km.cluster.DBSCAN(eps=10, min_samples=50))\n",
    "color_values = np.c_[y, z, w]\n",
    "columna_combinada = y * 100 + z * 10 + w\n",
    "mapper.visualize(\n",
    "    graph,\n",
    "    path_html=\"universidad_nacional_output.html\",\n",
    "    title=\"Mapeo de datos de la Universidad Nacional\",\n",
    "    custom_tooltips=columna_combinada,\n",
    "    color_values=color_values,\n",
    "    color_function_name= [\"ADMITIDO\",\"SEXO\", \"ESTRATO\"],\n",
    "    node_color_function=[\"mean\", \"std\", \"median\", \"max\" ]\n",
    ")\n",
    "# html = mapper.visualize(graph, color_values=color_values, path_html=\"universidad_nacional_output.html\",\n",
    "#                         title=\"Mapeo de datos de la Universidad Nacional\")\n",
    "\n",
    "print(\"Visualización generada con éxito.\")"
   ]
  },
  {
   "cell_type": "code",
   "execution_count": null,
   "id": "48df5f3f",
   "metadata": {},
   "outputs": [],
   "source": []
  }
 ],
 "metadata": {
  "kernelspec": {
   "display_name": "Python 3 (ipykernel)",
   "language": "python",
   "name": "python3"
  },
  "language_info": {
   "codemirror_mode": {
    "name": "ipython",
    "version": 3
   },
   "file_extension": ".py",
   "mimetype": "text/x-python",
   "name": "python",
   "nbconvert_exporter": "python",
   "pygments_lexer": "ipython3",
   "version": "3.11.5"
  }
 },
 "nbformat": 4,
 "nbformat_minor": 5
}
